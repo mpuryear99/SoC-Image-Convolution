{
 "cells": [
  {
   "cell_type": "code",
   "execution_count": null,
   "metadata": {},
   "outputs": [],
   "source": [
    "import numpy as np\n",
    "import matplotlib.pyplot as plt\n",
    "\n",
    "from skimage import io\n",
    "from skimage.util import img_as_ubyte\n",
    "from skimage import data, color"
   ]
  },
  {
   "cell_type": "code",
   "execution_count": null,
   "metadata": {},
   "outputs": [],
   "source": [
    "I1 = color.rgb2gray(data.cat())\n",
    "I2 = img_as_ubyte(I1)\n",
    "\n",
    "plt.imshow(I2, cmap='gray')"
   ]
  },
  {
   "cell_type": "code",
   "execution_count": null,
   "metadata": {},
   "outputs": [],
   "source": [
    "x, y = 110, 40\n",
    "I3 = I2[y:y+128, x:x+128]\n",
    "plt.imshow(I3, cmap='gray')\n",
    "print(I3.shape)"
   ]
  },
  {
   "cell_type": "code",
   "execution_count": null,
   "metadata": {},
   "outputs": [],
   "source": [
    "print(I3.shape)\n",
    "\n",
    "# fn = f'cat_{I3.shape[0]}_{I3.shape[1]}.pgm'\n",
    "# io.imsave(fn_out, I3)\n",
    "# I4 = io.imread(fn_out, as_gray=True)\n",
    "\n",
    "fn = f'cat_{I3.shape[0]}_{I3.shape[1]}.bin'\n",
    "I3.tofile(fn,sep='')"
   ]
  },
  {
   "cell_type": "code",
   "execution_count": null,
   "metadata": {},
   "outputs": [],
   "source": [
    "I4 = np.fromfile(fn, dtype=np.ubyte, count=I3.size)\n",
    "I4 = img_as_ubyte(I4).reshape(I3.shape)\n",
    "\n",
    "plt.imshow(I4, cmap='gray')"
   ]
  },
  {
   "cell_type": "code",
   "execution_count": null,
   "metadata": {},
   "outputs": [],
   "source": [
    "# Gaussian examples\n",
    "# from skimage.filters import gaussian\n",
    "from scipy import signal\n",
    "from scipy.ndimage import convolve1d\n",
    "\n",
    "N = 11\n",
    "fig, axs = plt.subplots(2,4, figsize=(8,4.5))\n",
    "\n",
    "for i, ax in enumerate(np.ravel(axs)):\n",
    "    a = np.zeros(N)\n",
    "    a[N//2] = 1\n",
    "    sigma = i/2\n",
    "    \n",
    "    k = a if not sigma else signal.gaussian(N, std=sigma/2)\n",
    "    k /= k.sum()\n",
    "    # k = (k*256).round() / 256  # simulate 8-bit fraction rounding\n",
    "    k = (k*256).round()\n",
    "    if k.sum() <= 255:\n",
    "        k[N//2] += 1\n",
    "    k /= 256\n",
    "\n",
    "    Ig = I3\n",
    "    Ig = convolve1d(Ig, k, axis=0, mode='mirror').T\n",
    "    Ig = convolve1d(Ig, k, axis=0, mode='mirror').T\n",
    "\n",
    "    ax.imshow(Ig, cmap='gray')\n",
    "    ax.set_axis_off()\n",
    "    title = f\"$\\sigma$={sigma}\"\n",
    "    if not i: title += \"  (Original)\"\n",
    "    ax.set_title(title)\n",
    "\n",
    "fig.tight_layout()\n",
    "fig.set_dpi(300)"
   ]
  }
 ],
 "metadata": {
  "kernelspec": {
   "display_name": "datasci",
   "language": "python",
   "name": "python3"
  },
  "language_info": {
   "codemirror_mode": {
    "name": "ipython",
    "version": 3
   },
   "file_extension": ".py",
   "mimetype": "text/x-python",
   "name": "python",
   "nbconvert_exporter": "python",
   "pygments_lexer": "ipython3",
   "version": "3.10.6"
  },
  "orig_nbformat": 4
 },
 "nbformat": 4,
 "nbformat_minor": 2
}
